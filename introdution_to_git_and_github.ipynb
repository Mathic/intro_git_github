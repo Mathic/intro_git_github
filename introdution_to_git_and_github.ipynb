{
 "cells": [
  {
   "cell_type": "markdown",
   "metadata": {
    "slideshow": {
     "slide_type": "skip"
    }
   },
   "source": []
  },
  {
   "cell_type": "markdown",
   "metadata": {
    "slideshow": {
     "slide_type": "slide"
    }
   },
   "source": [
    "# Introduction to Git and GitHub\n",
    "\n",
    "For the workshop on Machine Learning for Cognitive Neuroscience \\\n",
    "2021-01 \\\n",
    "Kendra Oudyk\n",
    "\n",
    "\n",
    "Much of this is borrowed from the **\"Version control with Git\"** tutorial by Software Carpentries\n",
    "\n",
    "https://swcarpentry.github.io/git-novice/"
   ]
  },
  {
   "cell_type": "markdown",
   "metadata": {
    "slideshow": {
     "slide_type": "slide"
    }
   },
   "source": [
    "# Goals\n",
    "\n",
    "### 1. Explain why git & GitHub are useful\n",
    "\n",
    "### 2. Track and share your work using git & GitHub\n"
   ]
  },
  {
   "cell_type": "markdown",
   "metadata": {
    "slideshow": {
     "slide_type": "slide"
    }
   },
   "source": [
    "# Roadmap\n",
    "\n",
    "- Goals\n",
    "- **Setup**\n",
    "- Why use git & GitHub?\n",
    "- Where does git store information?\n",
    "- How do I record changes in git?\n",
    "- How do I share my changes on the web?\n",
    "- Goals\n",
    "- What/how to keep learning"
   ]
  },
  {
   "cell_type": "markdown",
   "metadata": {
    "slideshow": {
     "slide_type": "slide"
    }
   },
   "source": [
    "Keep Zoom's 'Participants' window open. You'll need these:\n",
    "![](https://www.rluk.ac.uk/wp-content/uploads/2020/04/Screen-Shot-2020-04-28-at-11.13.20.png)"
   ]
  },
  {
   "cell_type": "markdown",
   "metadata": {
    "slideshow": {
     "slide_type": "slide"
    }
   },
   "source": [
    "# Setup\n",
    "### To follow on your machine, you'll need\n",
    "1. Bash\n",
    "2. Git\n",
    "3. Text editor\n",
    "4. GitHub account"
   ]
  },
  {
   "cell_type": "markdown",
   "metadata": {
    "slideshow": {
     "slide_type": "fragment"
    }
   },
   "source": [
    "### Check if you're ready\n",
    "- Can you open a text editor?\n",
    "- Can you go your GitHub account?\n",
    "- When you open a Bash shell and type `git --version`, does it output the version number?"
   ]
  },
  {
   "cell_type": "markdown",
   "metadata": {
    "slideshow": {
     "slide_type": "fragment"
    }
   },
   "source": [
    "If you answered 'yes' to all 3, click\n",
    "![](figures/zoom_icons/yes.png)"
   ]
  },
  {
   "cell_type": "markdown",
   "metadata": {
    "slideshow": {
     "slide_type": "subslide"
    }
   },
   "source": [
    "## Configure git\n",
    "```\n",
    "git config --global user.name \"Vlad Dracula\"\n",
    "git config --global user.email \"vlad@tran.sylvan.ia\"\n",
    "```\n",
    "*use the email you used for your GitHub account*  👆"
   ]
  },
  {
   "cell_type": "markdown",
   "metadata": {
    "slideshow": {
     "slide_type": "fragment"
    }
   },
   "source": [
    "#### macOS / Linux\n",
    "```\n",
    "git config --global core.autocrlf input\n",
    "```\n",
    "\n",
    "#### Windows\n",
    "```\n",
    "git config --global core.autocrlf true\n",
    "```"
   ]
  },
  {
   "cell_type": "markdown",
   "metadata": {
    "slideshow": {
     "slide_type": "fragment"
    }
   },
   "source": [
    "When you're done, click\n",
    "![](figures/zoom_icons/faster.png)"
   ]
  },
  {
   "cell_type": "markdown",
   "metadata": {
    "slideshow": {
     "slide_type": "subslide"
    }
   },
   "source": [
    "# What's your experience?\n",
    "### Respond with 'yes'  if you're comfortable with\n",
    "![](figures/zoom_icons/yes.png)"
   ]
  },
  {
   "cell_type": "markdown",
   "metadata": {
    "slideshow": {
     "slide_type": "fragment"
    }
   },
   "source": [
    "Git\n",
    "(These commands: `status` &nbsp; &nbsp;\n",
    "`add` &nbsp; &nbsp;\n",
    "`init` &nbsp; &nbsp;\n",
    "`commit` &nbsp; &nbsp;\n",
    "`diff` &nbsp; &nbsp;\n",
    "`push` &nbsp; &nbsp;)"
   ]
  },
  {
   "cell_type": "markdown",
   "metadata": {
    "slideshow": {
     "slide_type": "fragment"
    }
   },
   "source": [
    "GitHub"
   ]
  },
  {
   "cell_type": "markdown",
   "metadata": {
    "slideshow": {
     "slide_type": "slide"
    }
   },
   "source": [
    "# On learning git & GitHub\n",
    "![](figures/doing_and_understanding_cleaner.png)"
   ]
  },
  {
   "cell_type": "markdown",
   "metadata": {
    "slideshow": {
     "slide_type": "subslide"
    }
   },
   "source": [
    "# When you're not following,\n",
    "# turn on your mic and say something :)\n"
   ]
  },
  {
   "cell_type": "markdown",
   "metadata": {
    "slideshow": {
     "slide_type": "slide"
    }
   },
   "source": [
    "# Roadmap\n",
    "\n",
    "- Goals\n",
    "- Setup\n",
    "- **Why use git & GitHub?**\n",
    "- Where does git store information?\n",
    "- How do I record changes in git?\n",
    "- How do I share my changes on the web?\n",
    "- Goals\n",
    "- What/how to keep learning"
   ]
  },
  {
   "cell_type": "markdown",
   "metadata": {
    "slideshow": {
     "slide_type": "slide"
    }
   },
   "source": [
    "\n",
    "![](https://uidaholib.github.io/get-git/images/phd101212s.gif)\n",
    "“Piled Higher and Deeper” by Jorge Cham, http://www.phdcomics.com"
   ]
  },
  {
   "cell_type": "markdown",
   "metadata": {
    "slideshow": {
     "slide_type": "slide"
    }
   },
   "source": [
    "#### Why use git & GitHub?\n",
    "\n",
    "# Automated version control"
   ]
  },
  {
   "cell_type": "markdown",
   "metadata": {
    "slideshow": {
     "slide_type": "subslide"
    }
   },
   "source": [
    "### Record versions by tracking *changes*\n",
    "It's like having an unlimited \"undo\" button\n",
    "![](https://swcarpentry.github.io/git-novice/fig/play-changes.svg)"
   ]
  },
  {
   "cell_type": "markdown",
   "metadata": {
    "slideshow": {
     "slide_type": "subslide"
    }
   },
   "source": [
    "### Make independent changes\n",
    "![](https://swcarpentry.github.io/git-novice/fig/versions.svg)"
   ]
  },
  {
   "cell_type": "markdown",
   "metadata": {
    "slideshow": {
     "slide_type": "fragment"
    }
   },
   "source": [
    "### And incorporate the changes\n",
    "\n",
    "![](https://swcarpentry.github.io/git-novice/fig/merge.svg)\n",
    "\n",
    "https://swcarpentry.github.io/git-novice/"
   ]
  },
  {
   "cell_type": "markdown",
   "metadata": {
    "slideshow": {
     "slide_type": "slide"
    }
   },
   "source": [
    "# Open Science"
   ]
  },
  {
   "cell_type": "markdown",
   "metadata": {
    "slideshow": {
     "slide_type": "fragment"
    }
   },
   "source": [
    "![](figures/open_science_buffet.png)\n",
    "\n",
    "<font color='lightgrey'>(Credit to Christina Bergmann for the idea of the 'Open Science Buffet')</font>\n"
   ]
  },
  {
   "cell_type": "markdown",
   "metadata": {
    "slideshow": {
     "slide_type": "slide"
    }
   },
   "source": [
    "# Roadmap\n",
    "\n",
    "- Goals\n",
    "- Setup\n",
    "- Why use git & GitHub?\n",
    "- **Where does git store information?**\n",
    "- How do I record changes in git?\n",
    "- How do I share my changes on the web?\n",
    "- Goals\n",
    "- What/how to keep learning"
   ]
  },
  {
   "cell_type": "markdown",
   "metadata": {
    "slideshow": {
     "slide_type": "slide"
    }
   },
   "source": [
    "Open your Bash shell (where you typed `git --version` at the beginning)\n",
    "\n",
    "Create a directory\n",
    "```\n",
    "cd ~/Desktop\n",
    "mkdir kendras_desserts\n",
    "cd kendras_desserts\n",
    "```"
   ]
  },
  {
   "cell_type": "markdown",
   "metadata": {
    "slideshow": {
     "slide_type": "fragment"
    }
   },
   "source": [
    "What's in our directory?\n",
    "```\n",
    "ls -a\n",
    "```"
   ]
  },
  {
   "cell_type": "markdown",
   "metadata": {
    "slideshow": {
     "slide_type": "fragment"
    }
   },
   "source": [
    "Create a git repository\n",
    "```\n",
    "git init\n",
    "```"
   ]
  },
  {
   "cell_type": "markdown",
   "metadata": {
    "slideshow": {
     "slide_type": "fragment"
    }
   },
   "source": [
    "What's in our directory now?\n",
    "```\n",
    "ls -a\n",
    "```"
   ]
  },
  {
   "cell_type": "markdown",
   "metadata": {
    "slideshow": {
     "slide_type": "fragment"
    }
   },
   "source": [
    "**The `.git` subdirectory is where git stores all the info it needs to do version control**"
   ]
  },
  {
   "cell_type": "markdown",
   "metadata": {
    "slideshow": {
     "slide_type": "slide"
    }
   },
   "source": [
    "# Roadmap\n",
    "\n",
    "- Goals\n",
    "- Setup\n",
    "- Why use git & GitHub?\n",
    "- Where does git store information?\n",
    "- **How do I record changes in git?**\n",
    "- How do I share my changes on the web?\n",
    "- Goals\n",
    "- What/how to keep learning"
   ]
  },
  {
   "cell_type": "markdown",
   "metadata": {
    "slideshow": {
     "slide_type": "slide"
    }
   },
   "source": [
    "![](figures/workflow/w0_init.png)"
   ]
  },
  {
   "cell_type": "markdown",
   "metadata": {
    "slideshow": {
     "slide_type": "subslide"
    }
   },
   "source": [
    "![](figures/workflow/w1_local.png)"
   ]
  },
  {
   "cell_type": "markdown",
   "metadata": {
    "slideshow": {
     "slide_type": "subslide"
    }
   },
   "source": [
    "### `git add`\n",
    "![](https://i.gifer.com/YKCS.gif)\n",
    "### `git commit`\n",
    "![](https://www.nydailynews.com/resizer/nJ3qGqkV_0Z6WzIGAWktQ0pKlIE=/415x229/top/arc-anglerfish-arc2-prod-tronc.s3.amazonaws.com/public/JOYD6SAJXDW4JQJSKWAZIY266Y.jpg)"
   ]
  },
  {
   "cell_type": "markdown",
   "metadata": {
    "slideshow": {
     "slide_type": "slide"
    }
   },
   "source": [
    "Let's make a change!\n",
    "First, open a new file\n",
    "```\n",
    "<text editor> desserts.md\n",
    "```"
   ]
  },
  {
   "cell_type": "markdown",
   "metadata": {
    "slideshow": {
     "slide_type": "fragment"
    }
   },
   "source": [
    "Write this in the file:\n",
    "\n",
    "> pie\\\n",
    "> ice cream\\\n",
    "> cookies\n",
    "\n",
    "Save and exit"
   ]
  },
  {
   "cell_type": "markdown",
   "metadata": {
    "slideshow": {
     "slide_type": "fragment"
    }
   },
   "source": [
    "Reminder to let me know if you need me to slow down\n",
    "![](https://goldstarteachers.com/wp-content/uploads/2018/09/Confused-GIF.gif)"
   ]
  },
  {
   "cell_type": "markdown",
   "metadata": {
    "slideshow": {
     "slide_type": "subslide"
    }
   },
   "source": [
    "Let's check the status of our repo\n",
    "```\n",
    "git status\n",
    "```"
   ]
  },
  {
   "cell_type": "markdown",
   "metadata": {
    "slideshow": {
     "slide_type": "fragment"
    }
   },
   "source": [
    "Is this file being tracked?\n",
    "![](figures/zoom_icons/yes.png)\n",
    "![](figures/zoom_icons/no.png)\n",
    "\n",
    "<font color='grey'>(hint: look at what your terminal says)</font>"
   ]
  },
  {
   "cell_type": "markdown",
   "metadata": {
    "slideshow": {
     "slide_type": "fragment"
    }
   },
   "source": [
    "How can we include this file in what will be committed? \n",
    "\n",
    "\n",
    "\n",
    "\n"
   ]
  },
  {
   "cell_type": "markdown",
   "metadata": {
    "slideshow": {
     "slide_type": "subslide"
    }
   },
   "source": [
    "Let's stage the change\n",
    "```\n",
    "git add desserts.md\n",
    "```"
   ]
  },
  {
   "cell_type": "markdown",
   "metadata": {
    "slideshow": {
     "slide_type": "fragment"
    }
   },
   "source": [
    "Let's check the status of our repo\n",
    "```\n",
    "git status\n",
    "```"
   ]
  },
  {
   "cell_type": "markdown",
   "metadata": {
    "slideshow": {
     "slide_type": "fragment"
    }
   },
   "source": [
    "Let's commit the change\n",
    "```\n",
    "git commit -m \"list my favorite desserts\"\n",
    "```"
   ]
  },
  {
   "cell_type": "markdown",
   "metadata": {
    "slideshow": {
     "slide_type": "fragment"
    }
   },
   "source": [
    "Let's check the status of our repo\n",
    "```\n",
    "git status\n",
    "```"
   ]
  },
  {
   "cell_type": "markdown",
   "metadata": {
    "slideshow": {
     "slide_type": "slide"
    }
   },
   "source": [
    "# We forgot cake!"
   ]
  },
  {
   "cell_type": "markdown",
   "metadata": {
    "slideshow": {
     "slide_type": "fragment"
    }
   },
   "source": [
    "```\n",
    "<text editor> desserts.md\n",
    "```\n",
    "\n",
    "> pie\\\n",
    "> ice cream\\\n",
    "> cookies\\\n",
    "> cake\n",
    "\n",
    "Save and exit"
   ]
  },
  {
   "cell_type": "markdown",
   "metadata": {
    "slideshow": {
     "slide_type": "subslide"
    }
   },
   "source": [
    "Let's see what git tracked\n",
    "```\n",
    "git diff\n",
    "```"
   ]
  },
  {
   "cell_type": "markdown",
   "metadata": {
    "slideshow": {
     "slide_type": "fragment"
    }
   },
   "source": [
    "Let's check the status of our repo\n",
    "```\n",
    "git ____\n",
    "```"
   ]
  },
  {
   "cell_type": "markdown",
   "metadata": {
    "slideshow": {
     "slide_type": "fragment"
    }
   },
   "source": [
    "Let's stage and commit the change\n",
    "```\n",
    "git ____ desserts.md\n",
    "git commit -m \"add cake to list of desserts\"\n",
    "```"
   ]
  },
  {
   "cell_type": "markdown",
   "metadata": {
    "slideshow": {
     "slide_type": "slide"
    }
   },
   "source": [
    "## I change my mind...\n",
    "## cookies are better than ice cream\n"
   ]
  },
  {
   "cell_type": "markdown",
   "metadata": {
    "slideshow": {
     "slide_type": "fragment"
    }
   },
   "source": [
    "```\n",
    "$ <text editor> desserts.md\n",
    "```\n",
    "\n",
    "> pie\\\n",
    "> cookies\\\n",
    "> ice cream\\\n",
    "> cake\n",
    "\n",
    "Save and exit"
   ]
  },
  {
   "cell_type": "markdown",
   "metadata": {
    "slideshow": {
     "slide_type": "subslide"
    }
   },
   "source": [
    "Let's \\_\\_\\_\\_\\_\\_\\_\\_\\_\\_\\_\\_\\_\\_\\_\\_\\_\\_\\_\\_\\_\\_\\_\\_\n",
    "```\n",
    "git diff\n",
    "```"
   ]
  },
  {
   "cell_type": "markdown",
   "metadata": {
    "slideshow": {
     "slide_type": "fragment"
    }
   },
   "source": [
    "How could we figure out what this command does?"
   ]
  },
  {
   "cell_type": "markdown",
   "metadata": {
    "slideshow": {
     "slide_type": "fragment"
    }
   },
   "source": [
    "Let's stage and commit the change\n",
    "```\n",
    "git ____ desserts.md\n",
    "git ____ -m \"switch cookies and ice cream\"\n",
    "```"
   ]
  },
  {
   "cell_type": "markdown",
   "metadata": {
    "slideshow": {
     "slide_type": "slide"
    }
   },
   "source": [
    "# Check your understanding\n"
   ]
  },
  {
   "cell_type": "markdown",
   "metadata": {
    "slideshow": {
     "slide_type": "fragment"
    }
   },
   "source": [
    "## What does git track?\n",
    "![](https://swcarpentry.github.io/git-novice/fig/play-changes.svg)\n"
   ]
  },
  {
   "cell_type": "markdown",
   "metadata": {
    "slideshow": {
     "slide_type": "fragment"
    }
   },
   "source": [
    "### Does git track changes to each letter?\n",
    "![](figures/zoom_icons/yes.png)\n",
    "![](figures/zoom_icons/no.png)\n"
   ]
  },
  {
   "cell_type": "markdown",
   "metadata": {
    "slideshow": {
     "slide_type": "subslide"
    }
   },
   "source": [
    "## How do I get Git to track a change?\n"
   ]
  },
  {
   "cell_type": "markdown",
   "metadata": {
    "slideshow": {
     "slide_type": "fragment"
    }
   },
   "source": [
    "Put these in order:\n",
    "\n",
    "a) `git commit -m \"<this is what I did>\"`\\\n",
    "b) make the change\\\n",
    "c) `git add <file>`\n",
    "\n",
    "*(put your answer in the chat box)*"
   ]
  },
  {
   "cell_type": "markdown",
   "metadata": {
    "slideshow": {
     "slide_type": "fragment"
    }
   },
   "source": [
    "### Add your favorite dessert to the list and track the change\n"
   ]
  },
  {
   "cell_type": "markdown",
   "metadata": {
    "slideshow": {
     "slide_type": "slide"
    }
   },
   "source": [
    "# Roadmap\n",
    "\n",
    "- Goals\n",
    "- Setup\n",
    "- Why use git & GitHub?\n",
    "- Where does git store information?\n",
    "- How do I record changes in git?\n",
    "- **How do I share my changes on the web?**\n",
    "- Goals\n",
    "- What/how to keep learning"
   ]
  },
  {
   "cell_type": "markdown",
   "metadata": {
    "slideshow": {
     "slide_type": "slide"
    }
   },
   "source": [
    "![](figures/workflow/w2_inspect.png)"
   ]
  },
  {
   "cell_type": "markdown",
   "metadata": {
    "slideshow": {
     "slide_type": "subslide"
    }
   },
   "source": [
    "![](figures/workflow/w3_remote.png)"
   ]
  },
  {
   "cell_type": "markdown",
   "metadata": {
    "slideshow": {
     "slide_type": "subslide"
    }
   },
   "source": [
    "## Create a remote repo"
   ]
  },
  {
   "cell_type": "markdown",
   "metadata": {
    "slideshow": {
     "slide_type": "fragment"
    }
   },
   "source": [
    "- Go to github.com"
   ]
  },
  {
   "cell_type": "markdown",
   "metadata": {
    "slideshow": {
     "slide_type": "fragment"
    }
   },
   "source": [
    "- Beside **Repositories**, click **New**"
   ]
  },
  {
   "cell_type": "markdown",
   "metadata": {
    "lines_to_next_cell": 2,
    "slideshow": {
     "slide_type": "fragment"
    }
   },
   "source": [
    "- Enter your repo name\n",
    "- Choose to make your repo Public or Private\n",
    "- Don't check any boxes\n",
    "- Click **Create repository**"
   ]
  },
  {
   "cell_type": "markdown",
   "metadata": {
    "slideshow": {
     "slide_type": "subslide"
    }
   },
   "source": [
    "## Link it to your local repo"
   ]
  },
  {
   "cell_type": "markdown",
   "metadata": {
    "slideshow": {
     "slide_type": "fragment"
    }
   },
   "source": [
    "Tell git the URL of your remote repo and name it 'origin'\n",
    "```\n",
    "git remote add origin https://github.com/koudyk/kendras_desserts.git\n",
    "```"
   ]
  },
  {
   "cell_type": "markdown",
   "metadata": {
    "slideshow": {
     "slide_type": "fragment"
    }
   },
   "source": [
    "Set the name of your principle branch to main (if it's not already)\n",
    "```\n",
    "git branch -M main\n",
    "```\n",
    "![](figures/master_to_main.png)\n"
   ]
  },
  {
   "cell_type": "markdown",
   "metadata": {
    "slideshow": {
     "slide_type": "subslide"
    }
   },
   "source": [
    "Push your changes to GitHub\n",
    "```\n",
    "git push -u origin main\n",
    "```\n"
   ]
  },
  {
   "cell_type": "markdown",
   "metadata": {
    "slideshow": {
     "slide_type": "fragment"
    }
   },
   "source": [
    "Refresh your GitHub repo"
   ]
  },
  {
   "cell_type": "markdown",
   "metadata": {
    "slideshow": {
     "slide_type": "fragment"
    }
   },
   "source": [
    "Click 'yes' if you see `desserts.md` on your GitHub repo\n",
    "![](figures/zoom_icons/yes.png)"
   ]
  },
  {
   "cell_type": "markdown",
   "metadata": {
    "slideshow": {
     "slide_type": "slide"
    }
   },
   "source": [
    "### Use GitHub to look at your file's history"
   ]
  },
  {
   "cell_type": "markdown",
   "metadata": {
    "slideshow": {
     "slide_type": "fragment"
    }
   },
   "source": [
    "On your GitHub repo\n",
    "- Click on **desserts.md**\n",
    "\n",
    "- Click **History**"
   ]
  },
  {
   "cell_type": "markdown",
   "metadata": {
    "slideshow": {
     "slide_type": "fragment"
    }
   },
   "source": [
    "- What do we see when we click on a commit message?"
   ]
  },
  {
   "cell_type": "markdown",
   "metadata": {
    "slideshow": {
     "slide_type": "fragment"
    }
   },
   "source": [
    "- What do we see when we click on **<>**"
   ]
  },
  {
   "cell_type": "markdown",
   "metadata": {
    "slideshow": {
     "slide_type": "slide"
    }
   },
   "source": [
    "# Roadmap\n",
    "\n",
    "- Goals\n",
    "- Setup\n",
    "- Why use git & GitHub?\n",
    "- Where does git store information?\n",
    "- How do I record changes in git?\n",
    "- How do I share my changes on the web?\n",
    "- **Goals**\n",
    "- What/how to keep learning"
   ]
  },
  {
   "cell_type": "markdown",
   "metadata": {
    "slideshow": {
     "slide_type": "slide"
    }
   },
   "source": [
    "# Did we meet our goals?"
   ]
  },
  {
   "cell_type": "markdown",
   "metadata": {
    "slideshow": {
     "slide_type": "subslide"
    }
   },
   "source": [
    "## 1. Explain why git & GitHub are useful"
   ]
  },
  {
   "cell_type": "markdown",
   "metadata": {
    "slideshow": {
     "slide_type": "fragment"
    }
   },
   "source": [
    "... to a 10-year-old"
   ]
  },
  {
   "cell_type": "markdown",
   "metadata": {
    "slideshow": {
     "slide_type": "fragment"
    }
   },
   "source": [
    "... to a new grad student"
   ]
  },
  {
   "cell_type": "markdown",
   "metadata": {
    "slideshow": {
     "slide_type": "subslide"
    }
   },
   "source": [
    "### 2. Track and share your work  using git & GitHub\n"
   ]
  },
  {
   "cell_type": "markdown",
   "metadata": {
    "slideshow": {
     "slide_type": "fragment"
    }
   },
   "source": [
    "`status` &nbsp; &nbsp;\n",
    "`add` &nbsp; &nbsp;\n",
    "`init` &nbsp; &nbsp;\n",
    "`commit` &nbsp; &nbsp;\n",
    "`diff` &nbsp; &nbsp;\n",
    "`push` &nbsp; &nbsp;\n",
    "\n",
    "**Basic workflow for tracking a change and putting it on GitHub**\n",
    "- make a change\n",
    "- stage the change: `git ____ <filename>`\n",
    "- commit the change: `git ____ -m \"<commit message>\"`\n",
    "- put the change on GitHub: `git ____ origin main`\n",
    "\n",
    "**See what's happening with git**\n",
    "- show the working tree status: `git ____`\n",
    "- show how the file changed: `git ____`"
   ]
  },
  {
   "cell_type": "markdown",
   "metadata": {
    "slideshow": {
     "slide_type": "fragment"
    }
   },
   "source": [
    "### Now use these commands to make *snacks.md*\n",
    "![](figures/zoom_icons/yes.png)"
   ]
  },
  {
   "cell_type": "markdown",
   "metadata": {
    "slideshow": {
     "slide_type": "skip"
    }
   },
   "source": [
    "![](https://media1.tenor.com/images/ae1fd92f4ed82fba165d777e4a05c9de/tenor.gif?itemid=14220287)"
   ]
  },
  {
   "cell_type": "markdown",
   "metadata": {
    "slideshow": {
     "slide_type": "slide"
    }
   },
   "source": [
    "# Roadmap\n",
    "\n",
    "- Goals\n",
    "- Setup\n",
    "- Why use git & GitHub?\n",
    "- Where does git store information?\n",
    "- How do I record changes in git?\n",
    "- How do I share my changes on the web?\n",
    "- Goals\n",
    "- **What/how to keep learning**"
   ]
  },
  {
   "cell_type": "markdown",
   "metadata": {
    "slideshow": {
     "slide_type": "slide"
    }
   },
   "source": [
    "# There's so much more to git & GitHub!"
   ]
  },
  {
   "cell_type": "markdown",
   "metadata": {
    "slideshow": {
     "slide_type": "subslide"
    }
   },
   "source": [
    "![](figures/workflow/w4_update.png)"
   ]
  },
  {
   "cell_type": "markdown",
   "metadata": {
    "slideshow": {
     "slide_type": "subslide"
    }
   },
   "source": [
    "![](figures/workflow/w5_upstream.png)"
   ]
  },
  {
   "cell_type": "markdown",
   "metadata": {
    "slideshow": {
     "slide_type": "subslide"
    }
   },
   "source": [
    "![](figures/workflow/w6_undo.png)"
   ]
  },
  {
   "cell_type": "markdown",
   "metadata": {
    "slideshow": {
     "slide_type": "subslide"
    }
   },
   "source": [
    "![](figures/workflow/w7_branch.png)"
   ]
  },
  {
   "cell_type": "markdown",
   "metadata": {
    "slideshow": {
     "slide_type": "slide"
    }
   },
   "source": [
    "# Branches"
   ]
  },
  {
   "cell_type": "markdown",
   "metadata": {
    "slideshow": {
     "slide_type": "subslide"
    }
   },
   "source": [
    "![](figures/branches_features.png)"
   ]
  },
  {
   "cell_type": "markdown",
   "metadata": {
    "slideshow": {
     "slide_type": "subslide"
    }
   },
   "source": [
    "![](figures/branches_collab.png)"
   ]
  },
  {
   "cell_type": "markdown",
   "metadata": {
    "slideshow": {
     "slide_type": "subslide"
    }
   },
   "source": [
    "# Git buffet\n",
    "![](figures/git_github_buffet.png)"
   ]
  },
  {
   "cell_type": "markdown",
   "metadata": {
    "slideshow": {
     "slide_type": "slide"
    }
   },
   "source": [
    "# Git is hard\n",
    "Here are some tips"
   ]
  },
  {
   "cell_type": "markdown",
   "metadata": {
    "slideshow": {
     "slide_type": "subslide"
    }
   },
   "source": [
    "## Sit down and go throuh a tutorial\n",
    "![](figures/swc_git_website.png)\n",
    "\n",
    "![](figures/swc_coverage.png)"
   ]
  },
  {
   "cell_type": "markdown",
   "metadata": {
    "slideshow": {
     "slide_type": "subslide"
    }
   },
   "source": [
    "## Don't expect to remember everything\n",
    "![](figures/google_stuff.png)"
   ]
  },
  {
   "cell_type": "markdown",
   "metadata": {
    "lines_to_next_cell": 0,
    "slideshow": {
     "slide_type": "subslide"
    }
   },
   "source": [
    "## Keep common commands on a sticky note\n",
    "![](figures/sticky_note_on_laptop.jpg)"
   ]
  },
  {
   "cell_type": "markdown",
   "metadata": {
    "slideshow": {
     "slide_type": "subslide"
    }
   },
   "source": [
    "## To learn it, you need to *commit* to doing it\n",
    "![](figures/doing_and_understanding_cleaner.png)"
   ]
  },
  {
   "cell_type": "markdown",
   "metadata": {
    "slideshow": {
     "slide_type": "slide"
    }
   },
   "source": [
    "# The End\n",
    "\n",
    "\n",
    "Sofware Carpentry's tutorial: https://swcarpentry.github.io/git-novice/\n",
    "\n",
    "My repo with these slides: https://github.com/koudyk/intro_git_github\n",
    "\n",
    "![](https://media.riffsy.com/images/f9fd6fdf307421f068d82cd050eae236/tenor.gif)\n"
   ]
  }
 ],
 "metadata": {
  "celltoolbar": "Slideshow",
  "jupytext": {
   "encoding": "# -*- coding: utf-8 -*-",
   "formats": "ipynb,py:light"
  },
  "kernelspec": {
   "display_name": "Python 3",
   "language": "python",
   "name": "python3"
  },
  "language_info": {
   "codemirror_mode": {
    "name": "ipython",
    "version": 3
   },
   "file_extension": ".py",
   "mimetype": "text/x-python",
   "name": "python",
   "nbconvert_exporter": "python",
   "pygments_lexer": "ipython3",
   "version": "3.7.3"
  }
 },
 "nbformat": 4,
 "nbformat_minor": 2
}
