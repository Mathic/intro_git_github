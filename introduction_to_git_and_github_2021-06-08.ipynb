{
 "cells": [
  {
   "cell_type": "markdown",
   "metadata": {
    "lines_to_next_cell": 2,
    "slideshow": {
     "slide_type": "skip"
    }
   },
   "source": []
  },
  {
   "cell_type": "markdown",
   "metadata": {
    "slideshow": {
     "slide_type": "slide"
    }
   },
   "source": [
    "Kendra, click record!"
   ]
  },
  {
   "cell_type": "markdown",
   "metadata": {
    "slideshow": {
     "slide_type": "subslide"
    }
   },
   "source": [
    "# Introduction to Git and GitHub\n",
    "\n",
    "Kendra Oudyk\n",
    "\n",
    "2021-06-06\n",
    "\n",
    "Much of this is borrowed from the [**\"Version control with Git\"**](https://swcarpentry.github.io/git-novice/) tutorial by Software Carpentries"
   ]
  },
  {
   "cell_type": "markdown",
   "metadata": {
    "slideshow": {
     "slide_type": "slide"
    }
   },
   "source": [
    "# Goals\n",
    "1. **Explain why git/GitHub are useful**\n",
    "2. Explain basically how git works\n",
    "3. Track and share your work using git/GitHub\n",
    "4. Contribute to a project using git/GitHub"
   ]
  },
  {
   "cell_type": "markdown",
   "metadata": {
    "slideshow": {
     "slide_type": "slide"
    }
   },
   "source": [
    "\n",
    "![](https://uidaholib.github.io/get-git/images/phd101212s.gif)\n",
    "“Piled Higher and Deeper” by Jorge Cham, http://www.phdcomics.com\n",
    "\n",
    "*Note: we don't usually track doc's with git*"
   ]
  },
  {
   "cell_type": "markdown",
   "metadata": {
    "slideshow": {
     "slide_type": "slide"
    }
   },
   "source": [
    "# Automated version control"
   ]
  },
  {
   "cell_type": "markdown",
   "metadata": {
    "slideshow": {
     "slide_type": "subslide"
    }
   },
   "source": [
    "### Record versions by tracking *changes*\n",
    "It's like having an unlimited \"undo\" button\n",
    "![](https://swcarpentry.github.io/git-novice/fig/play-changes.svg)"
   ]
  },
  {
   "cell_type": "markdown",
   "metadata": {
    "slideshow": {
     "slide_type": "subslide"
    }
   },
   "source": [
    "### Make independent changes\n",
    "![](https://swcarpentry.github.io/git-novice/fig/versions.svg)"
   ]
  },
  {
   "cell_type": "markdown",
   "metadata": {
    "slideshow": {
     "slide_type": "fragment"
    }
   },
   "source": [
    "### And incorporate the changes\n",
    "\n",
    "![](https://swcarpentry.github.io/git-novice/fig/merge.svg)\n",
    "\n",
    "https://swcarpentry.github.io/git-novice/"
   ]
  },
  {
   "cell_type": "markdown",
   "metadata": {
    "slideshow": {
     "slide_type": "subslide"
    }
   },
   "source": [
    "# Git vs GitHub\n",
    "\n",
    "Git is the \"language\". It can be installed on any platform\n",
    "\n",
    "GitHub hosts git repositories in remote locations. GitHub is a company, the future of this company is unknown !  \n",
    "Other places specialized in hosting git repositories on the web:\n",
    "- Gitlab\n",
    "- Bitbucket\n",
    "- ...\n",
    "\n"
   ]
  },
  {
   "cell_type": "markdown",
   "metadata": {
    "slideshow": {
     "slide_type": "subslide"
    }
   },
   "source": [
    "# Git & GitHub make your work more efficient\n",
    "\n",
    "\"Time is money\"\n",
    "\n",
    "- Git was built because Linus Torwarld realized that merging the work of thousands of linux kernel contributors was getting impossible with other source control systems\n",
    "- Since then: it has been adopted very widely: there is a reason :)\n",
    "- Git is good for companies and large project: it is also for scientists"
   ]
  },
  {
   "cell_type": "markdown",
   "metadata": {
    "slideshow": {
     "slide_type": "subslide"
    }
   },
   "source": [
    "# Git & GitHub let you track your work"
   ]
  },
  {
   "cell_type": "markdown",
   "metadata": {
    "slideshow": {
     "slide_type": "fragment"
    }
   },
   "source": [
    "# ... as well as info *about* your work\n",
    "\n",
    "- what was the change\n",
    "- who did it\n",
    "- why\n",
    "- when"
   ]
  },
  {
   "cell_type": "markdown",
   "metadata": {
    "slideshow": {
     "slide_type": "subslide"
    }
   },
   "source": [
    "![](figures/git_log_on_github.png)"
   ]
  },
  {
   "cell_type": "markdown",
   "metadata": {
    "slideshow": {
     "slide_type": "fragment"
    }
   },
   "source": [
    "![](figures/merge.png)"
   ]
  },
  {
   "cell_type": "markdown",
   "metadata": {
    "slideshow": {
     "slide_type": "subslide"
    }
   },
   "source": [
    "![](figures/pull_request_convo.gif)"
   ]
  },
  {
   "cell_type": "markdown",
   "metadata": {
    "slideshow": {
     "slide_type": "slide"
    }
   },
   "source": [
    "# Git/GitHub can help you do Open Science"
   ]
  },
  {
   "cell_type": "markdown",
   "metadata": {
    "lines_to_next_cell": 2,
    "slideshow": {
     "slide_type": "fragment"
    }
   },
   "source": [
    "![](figures/open_science_buffet.png)\n",
    "\n",
    "<font color='lightgrey'>(Credit to Christina Bergmann for the idea of the 'Open Science Buffet')</font>"
   ]
  },
  {
   "cell_type": "markdown",
   "metadata": {
    "slideshow": {
     "slide_type": "slide"
    }
   },
   "source": [
    "# Goals\n",
    "1. Explain why git/GitHub are useful\n",
    "2. **Explain basically how git works**\n",
    "3. Track and share your work using git/GitHub\n",
    "4. Contribute to a project using git/GitHub"
   ]
  },
  {
   "cell_type": "markdown",
   "metadata": {
    "slideshow": {
     "slide_type": "subslide"
    }
   },
   "source": [
    "# What's a repository?\n",
    "\n",
    "- all files & folders in the project\n",
    "- each file's revision history"
   ]
  },
  {
   "cell_type": "markdown",
   "metadata": {
    "slideshow": {
     "slide_type": "fragment"
    }
   },
   "source": [
    "![](figures/file_history.gif)"
   ]
  },
  {
   "cell_type": "markdown",
   "metadata": {
    "slideshow": {
     "slide_type": "subslide"
    }
   },
   "source": [
    "## What do we \"track\" with git ?\n",
    "\n",
    "- Generally : ascii files\n",
    "- Generally : small files (ascii files are often \"small\")\n",
    "- A repository is composed of a set of files and directories ! \n",
    "- We know a directory (equivalently: folder) is a git repository because there is a \".git\" folder in it"
   ]
  },
  {
   "cell_type": "markdown",
   "metadata": {
    "slideshow": {
     "slide_type": "slide"
    }
   },
   "source": [
    "# What are branches?"
   ]
  },
  {
   "cell_type": "markdown",
   "metadata": {
    "slideshow": {
     "slide_type": "fragment"
    }
   },
   "source": [
    "![](figures/branches_tutorial.gif)"
   ]
  },
  {
   "cell_type": "markdown",
   "metadata": {
    "slideshow": {
     "slide_type": "subslide"
    }
   },
   "source": [
    "![](figures/branches_statsmodels.gif)"
   ]
  },
  {
   "cell_type": "markdown",
   "metadata": {
    "slideshow": {
     "slide_type": "fragment"
    }
   },
   "source": [
    "git was originally made for Linux development, which involves 1000's of contributers."
   ]
  },
  {
   "cell_type": "markdown",
   "metadata": {
    "slideshow": {
     "slide_type": "slide"
    }
   },
   "source": [
    "# Goals\n",
    "1. Explain why git/GitHub are useful\n",
    "2. Explain basically how git works\n",
    "3. **Track and share your work using git/GitHub**\n",
    "4. Contribute to a project using git/GitHub"
   ]
  },
  {
   "cell_type": "markdown",
   "metadata": {
    "slideshow": {
     "slide_type": "subslide"
    }
   },
   "source": [
    "### Common workflow\n",
    "# Track and share your work using git/GitHub"
   ]
  },
  {
   "cell_type": "markdown",
   "metadata": {
    "slideshow": {
     "slide_type": "subslide"
    }
   },
   "source": [
    "![](figures/workflow/w3_remote.png)"
   ]
  },
  {
   "cell_type": "markdown",
   "metadata": {
    "slideshow": {
     "slide_type": "subslide"
    }
   },
   "source": [
    "## Create a new directory\n",
    "And change into the directory\n",
    "\n",
    "`mkdir <directory name>`\\\n",
    "`cd <directory name>`\n",
    "![](figures/code/mkdir.png)"
   ]
  },
  {
   "cell_type": "markdown",
   "metadata": {
    "slideshow": {
     "slide_type": "fragment"
    }
   },
   "source": [
    "## Make it into a git repository\n",
    "`git init`\n",
    "![](figures/code/init.png)"
   ]
  },
  {
   "cell_type": "markdown",
   "metadata": {
    "slideshow": {
     "slide_type": "subslide"
    }
   },
   "source": [
    "## Make a change\n",
    "e.g., create a file called 'README.md'\n",
    "\n",
    "![](figures/code/touch.png)"
   ]
  },
  {
   "cell_type": "markdown",
   "metadata": {
    "slideshow": {
     "slide_type": "fragment"
    }
   },
   "source": [
    "## Check what git is aware of\n",
    "`git status`\n",
    "\n",
    "![](figures/code/status_before_add.png)"
   ]
  },
  {
   "cell_type": "markdown",
   "metadata": {
    "slideshow": {
     "slide_type": "subslide"
    }
   },
   "source": [
    "## Add the file so git is aware of it\n",
    "Put it in the \"staging area\"\n",
    "![](https://i.gifer.com/YKCS.gif)"
   ]
  },
  {
   "cell_type": "markdown",
   "metadata": {
    "slideshow": {
     "slide_type": "fragment"
    }
   },
   "source": [
    "`git add <filename>`\n",
    "![](figures/code/add_then_status.png)"
   ]
  },
  {
   "cell_type": "markdown",
   "metadata": {
    "slideshow": {
     "slide_type": "subslide"
    }
   },
   "source": [
    "## Take a snapshot of the staging area\n",
    "![](https://www.nydailynews.com/resizer/nJ3qGqkV_0Z6WzIGAWktQ0pKlIE=/415x229/top/arc-anglerfish-arc2-prod-tronc.s3.amazonaws.com/public/JOYD6SAJXDW4JQJSKWAZIY266Y.jpg)"
   ]
  },
  {
   "cell_type": "markdown",
   "metadata": {
    "slideshow": {
     "slide_type": "fragment"
    }
   },
   "source": [
    "`git commit -m \"<short, informative commit message>\"`\n",
    "![](figures/code/commit.png)"
   ]
  },
  {
   "cell_type": "markdown",
   "metadata": {
    "slideshow": {
     "slide_type": "subslide"
    }
   },
   "source": [
    "## What does all this *actually* look like?\n",
    "\n",
    "- commits: what are they under the hood ? \n",
    "\n",
    "- Commits are \"hashes\". You take hashes of files, hashes of the directories, and then hash these hashes !\n",
    "\n",
    "- See https://blog.thoughtram.io/git/2014/11/18/the-anatomy-of-a-git-commit.html for a great explanation of what is a \"commit\".\n",
    "\n",
    "- In a nutshell, a commit contains the exact state of your \"working tree\" (the directory you are working in) of all the files tracked by Git. "
   ]
  },
  {
   "cell_type": "markdown",
   "metadata": {
    "slideshow": {
     "slide_type": "fragment"
    }
   },
   "source": [
    "![](figures/git-commit.png)"
   ]
  },
  {
   "cell_type": "markdown",
   "metadata": {
    "slideshow": {
     "slide_type": "fragment"
    }
   },
   "source": [
    "### but, what is a \"hash\" like this sha1 function?\n",
    "\n",
    "A hash will take *the content* of a file or some information as an entry, and return a number that is *unique* to this file or information\n",
    "\n",
    "If anything changes in the file (even a single character), the hash will be different.\n",
    "\n",
    "### where are these in .git ?\n",
    "\n",
    "in .git/objects !\n",
    "\n",
    "\n",
    "### see what's in a commit ?\n",
    "\n",
    "`git show theuglycommitnumber-or-reference-eg-branch`\n"
   ]
  },
  {
   "cell_type": "markdown",
   "metadata": {
    "slideshow": {
     "slide_type": "subslide"
    }
   },
   "source": [
    "## Create a corresponding GitHub repo for sharing your work\n",
    "\n",
    "![](figures/github_new_repo.gif)"
   ]
  },
  {
   "cell_type": "markdown",
   "metadata": {
    "slideshow": {
     "slide_type": "subslide"
    }
   },
   "source": [
    "## Tell git the address of your remote repository\n",
    "`git remote add <remote name> <remote location>`\n",
    "![](figures/code/remote_add.png)"
   ]
  },
  {
   "cell_type": "markdown",
   "metadata": {
    "slideshow": {
     "slide_type": "fragment"
    }
   },
   "source": [
    "## Rename principal branch from *master* to *main* (if needed)\n",
    "![](figures/code/branch_name_to_main.png)"
   ]
  },
  {
   "cell_type": "markdown",
   "metadata": {},
   "source": [
    "## while we are talking of branches ...\n",
    "\n",
    "- branches: what are they ? \n",
    "\n",
    "So small, so simple ! branches are little ascii files, the name of the file is the branch name, the content is the commit hash !\n",
    "\n",
    "- and while we are here : what is a tag ?\n",
    "\n",
    "A tag is very much like a branch, but will always keep the same commit. It is another name for a commit !"
   ]
  },
  {
   "cell_type": "markdown",
   "metadata": {
    "slideshow": {
     "slide_type": "subslide"
    }
   },
   "source": [
    "## Push changes to github\n",
    "`git push <remote> <branch>`\\\n",
    "(the `-u` is needed only the first time) \n",
    "![](figures/code/push.png)\n",
    "*Note that GitHub is depreciating this authentication method*"
   ]
  },
  {
   "cell_type": "markdown",
   "metadata": {
    "slideshow": {
     "slide_type": "slide"
    }
   },
   "source": [
    "# Goals\n",
    "1. Explain why git/GitHub are useful\n",
    "2. Explain basically how git works\n",
    "3. Track and share your work using git/GitHub\n",
    "4. **Contribute to a project using git/GitHub**"
   ]
  },
  {
   "cell_type": "markdown",
   "metadata": {
    "slideshow": {
     "slide_type": "subslide"
    }
   },
   "source": [
    "### Common workflow\n",
    "# Contributing to a project using git/GitHub"
   ]
  },
  {
   "cell_type": "markdown",
   "metadata": {
    "slideshow": {
     "slide_type": "subslide"
    }
   },
   "source": [
    "![](figures/workflow/w5_upstream.png)"
   ]
  },
  {
   "cell_type": "markdown",
   "metadata": {
    "slideshow": {
     "slide_type": "subslide"
    }
   },
   "source": [
    "## Open/find an issue to work on\n",
    "![](figures/code/issue.gif)"
   ]
  },
  {
   "cell_type": "markdown",
   "metadata": {
    "slideshow": {
     "slide_type": "subslide"
    }
   },
   "source": [
    "## (Wait for approval)"
   ]
  },
  {
   "cell_type": "markdown",
   "metadata": {
    "slideshow": {
     "slide_type": "subslide"
    }
   },
   "source": [
    "## Fork the respository on GitHub\n",
    "(If you haven't already)\n",
    "![](figures/fork.png)"
   ]
  },
  {
   "cell_type": "markdown",
   "metadata": {
    "slideshow": {
     "slide_type": "subslide"
    }
   },
   "source": [
    "## Download the forked repository onto your machine\n",
    "`git clone <remote's url>.git`\n",
    "![](figures/code/clone_then_cd.png)"
   ]
  },
  {
   "cell_type": "markdown",
   "metadata": {
    "slideshow": {
     "slide_type": "fragment"
    }
   },
   "source": [
    "## Or, if you already have it, pull any changes that your collaborators made\n",
    "`git pull <remote> <branch>`\n",
    "![](figures/code/pull_upstream.png)"
   ]
  },
  {
   "cell_type": "markdown",
   "metadata": {
    "slideshow": {
     "slide_type": "subslide"
    }
   },
   "source": [
    "## Prepare to make changes\n",
    "Create a new branch on which store any new changes, and switch to that branch\n",
    "\n",
    "`git checkout -b <yourBranch>` \\\n",
    "(`git branch <yourBranch>` + `git checkout <yourBranch>`)\n",
    "\n",
    "![](figures/code/checkout_b.png)"
   ]
  },
  {
   "cell_type": "markdown",
   "metadata": {
    "slideshow": {
     "slide_type": "subslide"
    }
   },
   "source": [
    "## Make changes"
   ]
  },
  {
   "cell_type": "markdown",
   "metadata": {
    "slideshow": {
     "slide_type": "subslide"
    }
   },
   "source": [
    "## See changes\n",
    "`git status`\n",
    "![](figures/code/status_before_add2.png)"
   ]
  },
  {
   "cell_type": "markdown",
   "metadata": {
    "slideshow": {
     "slide_type": "fragment"
    }
   },
   "source": [
    "`git diff`\n",
    "![](figures/code/diff_before_add.png)"
   ]
  },
  {
   "cell_type": "markdown",
   "metadata": {
    "slideshow": {
     "slide_type": "subslide"
    }
   },
   "source": [
    "## Stage changes\n",
    "`git add <file1> <file2>`\n",
    "![](figures/code/add.png)\n",
    "\n",
    "![](https://i.gifer.com/YKCS.gif)"
   ]
  },
  {
   "cell_type": "markdown",
   "metadata": {
    "slideshow": {
     "slide_type": "subslide"
    }
   },
   "source": [
    "## Take the snapshot of the staging area\n",
    "`git commit -m \"<short, informative commit message>\"`\n",
    "\n",
    "![](figures/code/commit2.png)\n",
    "\n",
    "![](https://www.nydailynews.com/resizer/nJ3qGqkV_0Z6WzIGAWktQ0pKlIE=/415x229/top/arc-anglerfish-arc2-prod-tronc.s3.amazonaws.com/public/JOYD6SAJXDW4JQJSKWAZIY266Y.jpg)"
   ]
  },
  {
   "cell_type": "markdown",
   "metadata": {
    "slideshow": {
     "slide_type": "subslide"
    }
   },
   "source": [
    "## Share your work\n",
    "`git push <remote> <branch>`\n",
    "\n",
    "![](figures/code/push2.png)\n"
   ]
  },
  {
   "cell_type": "markdown",
   "metadata": {
    "slideshow": {
     "slide_type": "subslide"
    }
   },
   "source": [
    "## Pull request\n",
    "(ask collaborators to add your changes)\n",
    "![](figures/code/pull_request.gif)"
   ]
  },
  {
   "cell_type": "markdown",
   "metadata": {
    "slideshow": {
     "slide_type": "subslide"
    }
   },
   "source": [
    "## Let's see how the graph changed\n",
    "![](figures/code/network_graph_pr.png)"
   ]
  },
  {
   "cell_type": "markdown",
   "metadata": {
    "slideshow": {
     "slide_type": "slide"
    }
   },
   "source": [
    "# Goals\n",
    "1. Explain why git/GitHub are useful\n",
    "2. Explain basically how git works\n",
    "3. Track and share your work using git/GitHub\n",
    "4. Contribute to a project using git/GitHub\n",
    "\n",
    "*We'll practice 3. and 4. at the end of this workshop*"
   ]
  },
  {
   "cell_type": "markdown",
   "metadata": {
    "slideshow": {
     "slide_type": "subslide"
    }
   },
   "source": [
    "### Check your understanding\n",
    "\n",
    "# Why would you use git? \n",
    "Explain it in one sentence to a new grad student.\n",
    "![](figures/zoom_icons/chat.png)"
   ]
  },
  {
   "cell_type": "markdown",
   "metadata": {
    "slideshow": {
     "slide_type": "subslide"
    }
   },
   "source": [
    "### Check your understanding\n",
    "\n",
    "# What does git track?\n",
    "a) letter changes\\\n",
    "b) line changes\\\n",
    "c) document changes\n",
    "\n",
    "![](figures/zoom_icons/poll.png)"
   ]
  },
  {
   "cell_type": "markdown",
   "metadata": {
    "slideshow": {
     "slide_type": "fragment"
    }
   },
   "source": [
    "![](https://swcarpentry.github.io/git-novice/fig/play-changes.svg)\n"
   ]
  },
  {
   "cell_type": "markdown",
   "metadata": {
    "slideshow": {
     "slide_type": "subslide"
    }
   },
   "source": [
    "### Check your understanding\n",
    "# Put these commands in order\n",
    "to form a basic workflow for tracking and sharing a change. \n",
    "\n",
    "\n",
    "`commit` &nbsp; &nbsp;\n",
    "`push` &nbsp; &nbsp;\n",
    "`add` &nbsp; &nbsp;\n",
    "\n",
    "- make a change\n",
    "- stage the change: `git ____ <filename>`\n",
    "- commit the change: `git ____ -m \"<commit message>\"`\n",
    "- put the change on GitHub: `git ____ origin main`\n"
   ]
  },
  {
   "cell_type": "markdown",
   "metadata": {
    "slideshow": {
     "slide_type": "slide"
    }
   },
   "source": [
    "# There's so much more!"
   ]
  },
  {
   "cell_type": "markdown",
   "metadata": {
    "slideshow": {
     "slide_type": "fragment"
    }
   },
   "source": [
    "# Git buffet\n",
    "![](figures/git_github_buffet.png)"
   ]
  },
  {
   "cell_type": "markdown",
   "metadata": {
    "slideshow": {
     "slide_type": "slide"
    }
   },
   "source": [
    "# Git is hard\n",
    "Here are some tips"
   ]
  },
  {
   "cell_type": "markdown",
   "metadata": {
    "slideshow": {
     "slide_type": "subslide"
    }
   },
   "source": [
    "## Sit down and go through a tutorial\n",
    "![](figures/swc_git_website.png)\n",
    "\n",
    "![](figures/swc_coverage.png)"
   ]
  },
  {
   "cell_type": "markdown",
   "metadata": {
    "slideshow": {
     "slide_type": "subslide"
    }
   },
   "source": [
    "## Don't expect to remember everything\n",
    "![](figures/google_stuff.png)"
   ]
  },
  {
   "cell_type": "markdown",
   "metadata": {
    "lines_to_next_cell": 0,
    "slideshow": {
     "slide_type": "subslide"
    }
   },
   "source": [
    "## Keep common commands on a sticky note\n",
    "![](figures/sticky_note_on_laptop.jpg)"
   ]
  },
  {
   "cell_type": "markdown",
   "metadata": {
    "slideshow": {
     "slide_type": "slide"
    }
   },
   "source": [
    "# The End\n",
    "\n",
    "\n",
    "Software Carpentry's tutorial: https://swcarpentry.github.io/git-novice/\n",
    "\n",
    "![](https://media.riffsy.com/images/f9fd6fdf307421f068d82cd050eae236/tenor.gif)\n"
   ]
  }
 ],
 "metadata": {
  "celltoolbar": "Slideshow",
  "jupytext": {
   "encoding": "# -*- coding: utf-8 -*-",
   "formats": "ipynb,md"
  },
  "kernelspec": {
   "display_name": "Python 3",
   "language": "python",
   "name": "python3"
  },
  "language_info": {
   "codemirror_mode": {
    "name": "ipython",
    "version": 3
   },
   "file_extension": ".py",
   "mimetype": "text/x-python",
   "name": "python",
   "nbconvert_exporter": "python",
   "pygments_lexer": "ipython3",
   "version": "3.6.7"
  },
  "toc": {
   "nav_menu": {},
   "number_sections": true,
   "sideBar": true,
   "skip_h1_title": false,
   "toc_cell": false,
   "toc_position": {},
   "toc_section_display": "block",
   "toc_window_display": false
  }
 },
 "nbformat": 4,
 "nbformat_minor": 2
}
